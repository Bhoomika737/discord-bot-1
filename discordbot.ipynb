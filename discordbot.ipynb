{
  "cells": [
    {
      "cell_type": "code",
      "execution_count": null,
      "metadata": {
        "colab": {
          "base_uri": "https://localhost:8080/"
        },
        "id": "C3N4PEJ0SAPB",
        "outputId": "fcc5b605-2e78-4ab4-8a8e-de134729ae74"
      },
      "outputs": [
        {
          "output_type": "stream",
          "name": "stdout",
          "text": [
            "Collecting discord.py\n",
            "  Downloading discord.py-2.3.2-py3-none-any.whl (1.1 MB)\n",
            "\u001b[?25l     \u001b[90m━━━━━━━━━━━━━━━━━━━━━━━━━━━━━━━━━━━━━━━━\u001b[0m \u001b[32m0.0/1.1 MB\u001b[0m \u001b[31m?\u001b[0m eta \u001b[36m-:--:--\u001b[0m\r\u001b[2K     \u001b[91m━━━\u001b[0m\u001b[90m╺\u001b[0m\u001b[90m━━━━━━━━━━━━━━━━━━━━━━━━━━━━━━━━━━━━\u001b[0m \u001b[32m0.1/1.1 MB\u001b[0m \u001b[31m2.6 MB/s\u001b[0m eta \u001b[36m0:00:01\u001b[0m\r\u001b[2K     \u001b[91m━━━━━━━━━━━━━━━━━━━━━━━━━━━━━━━━━\u001b[0m\u001b[90m╺\u001b[0m\u001b[90m━━━━━━\u001b[0m \u001b[32m0.9/1.1 MB\u001b[0m \u001b[31m13.2 MB/s\u001b[0m eta \u001b[36m0:00:01\u001b[0m\r\u001b[2K     \u001b[90m━━━━━━━━━━━━━━━━━━━━━━━━━━━━━━━━━━━━━━━━\u001b[0m \u001b[32m1.1/1.1 MB\u001b[0m \u001b[31m12.8 MB/s\u001b[0m eta \u001b[36m0:00:00\u001b[0m\n",
            "\u001b[?25hRequirement already satisfied: aiohttp<4,>=3.7.4 in /usr/local/lib/python3.10/dist-packages (from discord.py) (3.8.5)\n",
            "Requirement already satisfied: attrs>=17.3.0 in /usr/local/lib/python3.10/dist-packages (from aiohttp<4,>=3.7.4->discord.py) (23.1.0)\n",
            "Requirement already satisfied: charset-normalizer<4.0,>=2.0 in /usr/local/lib/python3.10/dist-packages (from aiohttp<4,>=3.7.4->discord.py) (3.2.0)\n",
            "Requirement already satisfied: multidict<7.0,>=4.5 in /usr/local/lib/python3.10/dist-packages (from aiohttp<4,>=3.7.4->discord.py) (6.0.4)\n",
            "Requirement already satisfied: async-timeout<5.0,>=4.0.0a3 in /usr/local/lib/python3.10/dist-packages (from aiohttp<4,>=3.7.4->discord.py) (4.0.3)\n",
            "Requirement already satisfied: yarl<2.0,>=1.0 in /usr/local/lib/python3.10/dist-packages (from aiohttp<4,>=3.7.4->discord.py) (1.9.2)\n",
            "Requirement already satisfied: frozenlist>=1.1.1 in /usr/local/lib/python3.10/dist-packages (from aiohttp<4,>=3.7.4->discord.py) (1.4.0)\n",
            "Requirement already satisfied: aiosignal>=1.1.2 in /usr/local/lib/python3.10/dist-packages (from aiohttp<4,>=3.7.4->discord.py) (1.3.1)\n",
            "Requirement already satisfied: idna>=2.0 in /usr/local/lib/python3.10/dist-packages (from yarl<2.0,>=1.0->aiohttp<4,>=3.7.4->discord.py) (3.4)\n",
            "Installing collected packages: discord.py\n",
            "Successfully installed discord.py-2.3.2\n",
            "Collecting tinydb\n",
            "  Downloading tinydb-4.8.0-py3-none-any.whl (24 kB)\n",
            "Installing collected packages: tinydb\n",
            "Successfully installed tinydb-4.8.0\n"
          ]
        }
      ],
      "source": [
        "!pip install discord.py\n",
        "!pip install tinydb"
      ]
    },
    {
      "cell_type": "code",
      "source": [
        "!pip install mysql-connector-python"
      ],
      "metadata": {
        "colab": {
          "base_uri": "https://localhost:8080/"
        },
        "id": "Ux_SqD3e5YLr",
        "outputId": "107e29c5-2af4-41f3-9362-d6366e555062"
      },
      "execution_count": null,
      "outputs": [
        {
          "output_type": "stream",
          "name": "stdout",
          "text": [
            "Collecting mysql-connector-python\n",
            "  Downloading mysql_connector_python-8.1.0-cp310-cp310-manylinux_2_17_x86_64.whl (27.5 MB)\n",
            "\u001b[2K     \u001b[90m━━━━━━━━━━━━━━━━━━━━━━━━━━━━━━━━━━━━━━━━\u001b[0m \u001b[32m27.5/27.5 MB\u001b[0m \u001b[31m52.7 MB/s\u001b[0m eta \u001b[36m0:00:00\u001b[0m\n",
            "\u001b[?25hCollecting protobuf<=4.21.12,>=4.21.1 (from mysql-connector-python)\n",
            "  Downloading protobuf-4.21.12-cp37-abi3-manylinux2014_x86_64.whl (409 kB)\n",
            "\u001b[2K     \u001b[90m━━━━━━━━━━━━━━━━━━━━━━━━━━━━━━━━━━━━━━\u001b[0m \u001b[32m409.8/409.8 kB\u001b[0m \u001b[31m36.4 MB/s\u001b[0m eta \u001b[36m0:00:00\u001b[0m\n",
            "\u001b[?25hInstalling collected packages: protobuf, mysql-connector-python\n",
            "  Attempting uninstall: protobuf\n",
            "    Found existing installation: protobuf 3.20.3\n",
            "    Uninstalling protobuf-3.20.3:\n",
            "      Successfully uninstalled protobuf-3.20.3\n",
            "\u001b[31mERROR: pip's dependency resolver does not currently take into account all the packages that are installed. This behaviour is the source of the following dependency conflicts.\n",
            "tensorflow-metadata 1.14.0 requires protobuf<4.21,>=3.20.3, but you have protobuf 4.21.12 which is incompatible.\u001b[0m\u001b[31m\n",
            "\u001b[0mSuccessfully installed mysql-connector-python-8.1.0 protobuf-4.21.12\n"
          ]
        }
      ]
    },
    {
      "cell_type": "code",
      "execution_count": null,
      "metadata": {
        "colab": {
          "base_uri": "https://localhost:8080/"
        },
        "id": "DIsU76ZYSHU3",
        "outputId": "470e2b7a-76fd-4155-c6e9-44a58ef1322d"
      },
      "outputs": [
        {
          "output_type": "stream",
          "name": "stdout",
          "text": [
            "Requirement already satisfied: nest-asyncio in /usr/local/lib/python3.10/dist-packages (1.5.7)\n"
          ]
        }
      ],
      "source": [
        "!pip install nest-asyncio\n",
        "import nest_asyncio\n",
        "nest_asyncio.apply()"
      ]
    },
    {
      "cell_type": "code",
      "execution_count": null,
      "metadata": {
        "id": "Sz1VqFhcuex5",
        "colab": {
          "base_uri": "https://localhost:8080/",
          "height": 36
        },
        "outputId": "0ceb49b3-5566-4e0a-b2e8-e4e5b14aefba"
      },
      "outputs": [
        {
          "output_type": "execute_result",
          "data": {
            "text/plain": [
              "'3.37.2'"
            ],
            "application/vnd.google.colaboratory.intrinsic+json": {
              "type": "string"
            }
          },
          "metadata": {},
          "execution_count": 24
        }
      ],
      "source": [
        "import os\n",
        "import requests\n",
        "import json\n",
        "import random\n",
        "import sqlite3\n",
        "sqlite3.sqlite_version"
      ]
    },
    {
      "cell_type": "code",
      "execution_count": null,
      "metadata": {
        "id": "JVnx1P_TSRBK"
      },
      "outputs": [],
      "source": [
        "discord_token = \"MTE0MzE2MDIxNjIyNjExMTYxOQ.GnsrIH.CVHlsYjS1l-uyV-SockGumBNJsq9LITQT3ZhH0\""
      ]
    },
    {
      "cell_type": "code",
      "execution_count": null,
      "metadata": {
        "id": "u_a867YfSXZP"
      },
      "outputs": [],
      "source": [
        "from discord.ext import commands\n",
        "import discord\n",
        "from tinydb import TinyDB, Query\n",
        "\n",
        "intents = discord.Intents.all()"
      ]
    },
    {
      "cell_type": "code",
      "execution_count": null,
      "metadata": {
        "colab": {
          "base_uri": "https://localhost:8080/"
        },
        "id": "XW1EYnAsSaqk",
        "outputId": "34705e1d-f8bc-4aa2-877c-22b96cde16bd"
      },
      "outputs": [
        {
          "output_type": "stream",
          "name": "stderr",
          "text": [
            "\u001b[30;1m2023-08-22 17:08:36\u001b[0m \u001b[34;1mINFO    \u001b[0m \u001b[35mdiscord.client\u001b[0m logging in using static token\n",
            "\u001b[30;1m2023-08-22 17:08:36\u001b[0m \u001b[34;1mINFO    \u001b[0m \u001b[35mdiscord.client\u001b[0m logging in using static token\n",
            "\u001b[30;1m2023-08-22 17:08:36\u001b[0m \u001b[34;1mINFO    \u001b[0m \u001b[35mdiscord.client\u001b[0m logging in using static token\n",
            "\u001b[30;1m2023-08-22 17:08:36\u001b[0m \u001b[34;1mINFO    \u001b[0m \u001b[35mdiscord.client\u001b[0m logging in using static token\n",
            "\u001b[30;1m2023-08-22 17:08:36\u001b[0m \u001b[34;1mINFO    \u001b[0m \u001b[35mdiscord.client\u001b[0m logging in using static token\n",
            "\u001b[30;1m2023-08-22 17:08:36\u001b[0m \u001b[34;1mINFO    \u001b[0m \u001b[35mdiscord.client\u001b[0m logging in using static token\n",
            "INFO:discord.client:logging in using static token\n"
          ]
        },
        {
          "output_type": "stream",
          "name": "stdout",
          "text": [
            "('computer', 455)\n",
            "('printer', 788)\n",
            "('Tab', 900)\n"
          ]
        },
        {
          "output_type": "stream",
          "name": "stderr",
          "text": [
            "\u001b[30;1m2023-08-22 17:08:38\u001b[0m \u001b[34;1mINFO    \u001b[0m \u001b[35mdiscord.gateway\u001b[0m Shard ID None has connected to Gateway (Session ID: e729ff9c73db245b523c17624ca0f09c).\n",
            "\u001b[30;1m2023-08-22 17:08:38\u001b[0m \u001b[34;1mINFO    \u001b[0m \u001b[35mdiscord.gateway\u001b[0m Shard ID None has connected to Gateway (Session ID: e729ff9c73db245b523c17624ca0f09c).\n",
            "\u001b[30;1m2023-08-22 17:08:38\u001b[0m \u001b[34;1mINFO    \u001b[0m \u001b[35mdiscord.gateway\u001b[0m Shard ID None has connected to Gateway (Session ID: e729ff9c73db245b523c17624ca0f09c).\n",
            "\u001b[30;1m2023-08-22 17:08:38\u001b[0m \u001b[34;1mINFO    \u001b[0m \u001b[35mdiscord.gateway\u001b[0m Shard ID None has connected to Gateway (Session ID: e729ff9c73db245b523c17624ca0f09c).\n",
            "\u001b[30;1m2023-08-22 17:08:38\u001b[0m \u001b[34;1mINFO    \u001b[0m \u001b[35mdiscord.gateway\u001b[0m Shard ID None has connected to Gateway (Session ID: e729ff9c73db245b523c17624ca0f09c).\n",
            "\u001b[30;1m2023-08-22 17:08:38\u001b[0m \u001b[34;1mINFO    \u001b[0m \u001b[35mdiscord.gateway\u001b[0m Shard ID None has connected to Gateway (Session ID: e729ff9c73db245b523c17624ca0f09c).\n",
            "INFO:discord.gateway:Shard ID None has connected to Gateway (Session ID: e729ff9c73db245b523c17624ca0f09c).\n"
          ]
        },
        {
          "output_type": "stream",
          "name": "stdout",
          "text": [
            "logged in\n",
            "---------\n"
          ]
        }
      ],
      "source": [
        "\n",
        "bot = commands.Bot(command_prefix=\"$\",intents = intents)\n",
        "\n",
        "\n",
        "discouraging_words=['depressing','bleak','disheartening','dreary','dismal','hindering']\n",
        "polite_words=['heartening','inspiring','inspiriting','pleasant','cheerful']\n",
        "def get_quote():\n",
        "\n",
        "  response=requests.get(\"https://zenquotes.io/api/random\")\n",
        "  json_data=json.loads(response.text)\n",
        "  quote=json_data[0]['q']+\"-\"+json_data[0]['a']\n",
        "  return quote\n",
        "\n",
        "@bot.event\n",
        "async def on_ready():\n",
        "  print('logged in')\n",
        "  print('---------')\n",
        "\n",
        "conn=sqlite3.connect('sample.db')\n",
        "c=conn.cursor()\n",
        "\n",
        "c.execute('''CREATE TABLE IF NOT EXISTS products(\n",
        "  product_id INTEGER PRIMARY KEY,\n",
        "  product TEXT\n",
        ")''')\n",
        "c.execute('''CREATE TABLE IF NOT EXISTS prices(\n",
        "  product_id INTEGER PRIMARY KEY,\n",
        "  prices INTEGER\n",
        ")''' )\n",
        "conn.commit()\n",
        "\n",
        "c.execute('''INSERT INTO products(product_id,product) VALUES(1,'computer'),(2,'printer'),(3,'Tab')''')\n",
        "c.execute('''INSERT INTO prices (product_id,prices) VALUES (1,455),(2,788),(3,900)''')\n",
        "conn.commit()\n",
        "\n",
        "c.execute('''SELECT a.product, b.prices FROM products a LEFT JOIN prices b ON a.product_id=b.product_id ''')\n",
        "\n",
        "rows=c.fetchall()\n",
        "for row in rows:\n",
        "  print(row)\n",
        "\n",
        "c.close()\n",
        "conn.close()\n",
        "\n",
        "@bot.event\n",
        "async def on_message(message):\n",
        "  msg=message.content\n",
        "  if message.content.startswith('$hello'):\n",
        "    await message.channel.send('hello!')\n",
        "  if message.content.startswith('$quote'):\n",
        "    quote=get_quote()\n",
        "    await message.channel.send(quote)\n",
        "  if any(word in msg for word in discouraging_words):\n",
        "    await message.channel.send(random.choice(polite_words))\n",
        "@bot.command\n",
        "async def hello(ctx):\n",
        "  await ctx.send('hello')\n",
        "\n",
        "\n",
        "bot.run(discord_token)"
      ]
    },
    {
      "cell_type": "code",
      "execution_count": null,
      "metadata": {
        "id": "9Ht5BrTTY9XH"
      },
      "outputs": [],
      "source": []
    }
  ],
  "metadata": {
    "colab": {
      "provenance": []
    },
    "kernelspec": {
      "display_name": "Python 3",
      "name": "python3"
    },
    "language_info": {
      "name": "python"
    }
  },
  "nbformat": 4,
  "nbformat_minor": 0
}